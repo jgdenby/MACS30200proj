{
 "cells": [
  {
   "cell_type": "markdown",
   "metadata": {},
   "source": [
    "See http://www.nltk.org/howto/childes.html   \n",
    "Data source: https://childes.talkbank.org/data-xml/Eng-NA/"
   ]
  },
  {
   "cell_type": "code",
   "execution_count": 1,
   "metadata": {
    "collapsed": true
   },
   "outputs": [],
   "source": [
    "import nltk\n",
    "from nltk.corpus.reader import CHILDESCorpusReader"
   ]
  },
  {
   "cell_type": "code",
   "execution_count": 20,
   "metadata": {
    "collapsed": true
   },
   "outputs": [],
   "source": [
    "corpus_roots= []\n",
    "corpus_roots.append(nltk.data.find('Gelman/ReadingBook'))\n",
    "corpus_roots.append(nltk.data.find('Gelman/PictureBook/20mo'))\n",
    "corpus_roots.append(nltk.data.find('Gelman/PictureBook/35mo/'))"
   ]
  },
  {
   "cell_type": "code",
   "execution_count": 25,
   "metadata": {},
   "outputs": [],
   "source": [
    "allmothertalk = []\n",
    "files = []\n",
    "for cr in corpus_roots:\n",
    "    files = CHILDESCorpusReader(cr, '.*.xml').fileids()\n",
    "    for f in files:\n",
    "        allmothertalk += CHILDESCorpusReader(cr, '.*.xml').words(f,speaker=['MOT'])\n",
    "\n",
    "        \n",
    "        "
   ]
  },
  {
   "cell_type": "code",
   "execution_count": 27,
   "metadata": {},
   "outputs": [
    {
     "data": {
      "text/plain": [
       "45307"
      ]
     },
     "execution_count": 27,
     "metadata": {},
     "output_type": "execute_result"
    }
   ],
   "source": [
    "len(allmothertalk)"
   ]
  },
  {
   "cell_type": "code",
   "execution_count": 5,
   "metadata": {
    "collapsed": true
   },
   "outputs": [],
   "source": [
    "corpus_participants = gelman.participants(gelman.fileids())"
   ]
  },
  {
   "cell_type": "code",
   "execution_count": 6,
   "metadata": {},
   "outputs": [
    {
     "data": {
      "text/plain": [
       "[defaultdict(<function CHILDESCorpusReader._get_participants.<locals>.dictOfDicts at 0x10bb1a598>, {'CHI': defaultdict(<function CHILDESCorpusReader._get_participants.<locals>.dictOfDicts at 0x10bb1a598>, {'id': 'CHI', 'role': 'Target_Child', 'language': 'eng', 'age': 'P2Y11M12D', 'sex': 'male'}), 'MOT': defaultdict(<function CHILDESCorpusReader._get_participants.<locals>.dictOfDicts at 0x10bb1a598>, {'id': 'MOT', 'role': 'Mother', 'language': 'eng', 'sex': 'female'})}), defaultdict(<function CHILDESCorpusReader._get_participants.<locals>.dictOfDicts at 0x10bb1a6a8>, {'CHI': defaultdict(<function CHILDESCorpusReader._get_participants.<locals>.dictOfDicts at 0x10bb1a6a8>, {'id': 'CHI', 'role': 'Target_Child', 'language': 'eng', 'age': 'P2Y11M24D', 'sex': 'male'}), 'MOT': defaultdict(<function CHILDESCorpusReader._get_participants.<locals>.dictOfDicts at 0x10bb1a6a8>, {'id': 'MOT', 'role': 'Mother', 'language': 'eng', 'sex': 'female'})}), ...]"
      ]
     },
     "execution_count": 6,
     "metadata": {},
     "output_type": "execute_result"
    }
   ],
   "source": [
    "corpus_participants"
   ]
  },
  {
   "cell_type": "code",
   "execution_count": 8,
   "metadata": {
    "collapsed": true
   },
   "outputs": [],
   "source": [
    "allmothertalk = []\n",
    "for f in gelman.fileids():\n",
    "    allmothertalk += gelman.words(f,speaker=['MOT'])"
   ]
  },
  {
   "cell_type": "code",
   "execution_count": 13,
   "metadata": {},
   "outputs": [
    {
     "data": {
      "text/plain": [
       "['specially', 'built', 'truck', '', 'out', 'right', ...]"
      ]
     },
     "execution_count": 13,
     "metadata": {},
     "output_type": "execute_result"
    }
   ],
   "source": [
    "allmothertalk"
   ]
  },
  {
   "cell_type": "code",
   "execution_count": 12,
   "metadata": {},
   "outputs": [
    {
     "data": {
      "text/plain": [
       "['specially', 'built', 'truck', '', 'out', 'right', ...]"
      ]
     },
     "execution_count": 12,
     "metadata": {},
     "output_type": "execute_result"
    }
   ],
   "source": [
    "gelman.words('05.xml',speaker=['MOT'])"
   ]
  }
 ],
 "metadata": {
  "kernelspec": {
   "display_name": "Python 3",
   "language": "python",
   "name": "python3"
  },
  "language_info": {
   "codemirror_mode": {
    "name": "ipython",
    "version": 3
   },
   "file_extension": ".py",
   "mimetype": "text/x-python",
   "name": "python",
   "nbconvert_exporter": "python",
   "pygments_lexer": "ipython3",
   "version": "3.6.1"
  }
 },
 "nbformat": 4,
 "nbformat_minor": 2
}
