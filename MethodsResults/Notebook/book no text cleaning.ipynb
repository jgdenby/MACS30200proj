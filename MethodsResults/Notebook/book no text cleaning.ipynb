{
 "cells": [
  {
   "cell_type": "code",
   "execution_count": 32,
   "metadata": {
    "collapsed": true
   },
   "outputs": [],
   "source": [
    "import pandas as pd\n",
    "import numpy as np\n",
    "import re"
   ]
  },
  {
   "cell_type": "code",
   "execution_count": 21,
   "metadata": {},
   "outputs": [],
   "source": [
    "talk = pd.read_csv('speech_17403.txt',delimiter='\\t', header=None)\n",
    "talk2 = pd.read_csv('speech_17527.txt',delimiter='\\t', header=None)\n",
    "talk3 = pd.read_csv('speech_17581.txt',delimiter='\\t', header=None)\n",
    "talk4 = pd.read_csv('speech_17757.txt',delimiter='\\t', header=None)"
   ]
  },
  {
   "cell_type": "code",
   "execution_count": 22,
   "metadata": {
    "collapsed": true
   },
   "outputs": [],
   "source": [
    "talk['subj'] = 1\n",
    "talk2['subj'] = 2\n",
    "talk3['subj'] = 3\n",
    "talk4['subj'] = 4"
   ]
  },
  {
   "cell_type": "code",
   "execution_count": 23,
   "metadata": {
    "collapsed": true
   },
   "outputs": [],
   "source": [
    "talk = talk.append(talk2)\n",
    "talk = talk.append(talk3)\n",
    "talk = talk.append(talk4)"
   ]
  },
  {
   "cell_type": "code",
   "execution_count": 40,
   "metadata": {},
   "outputs": [],
   "source": [
    "talk.rename(columns={0:'start',1:'end',2:'utt'},inplace=True)\n",
    "talk['utt'] = talk.utt.apply(lambda x: x.replace('langplayx',''))\n",
    "talk['utt'] = talk.utt.apply(lambda x: x.replace('speechx',''))\n",
    "talk['utt'] = talk.utt.apply(lambda x: x.replace('vocplayx',''))"
   ]
  },
  {
   "cell_type": "code",
   "execution_count": 47,
   "metadata": {
    "scrolled": true
   },
   "outputs": [],
   "source": [
    "talk = talk[talk.utt != '']\n",
    "talk.reset_index(inplace=True, drop=True)"
   ]
  },
  {
   "cell_type": "code",
   "execution_count": 49,
   "metadata": {},
   "outputs": [],
   "source": [
    "talk.to_csv('booknotext.csv')"
   ]
  },
  {
   "cell_type": "code",
   "execution_count": null,
   "metadata": {
    "collapsed": true
   },
   "outputs": [],
   "source": []
  }
 ],
 "metadata": {
  "kernelspec": {
   "display_name": "Python 3",
   "language": "python",
   "name": "python3"
  },
  "language_info": {
   "codemirror_mode": {
    "name": "ipython",
    "version": 3
   },
   "file_extension": ".py",
   "mimetype": "text/x-python",
   "name": "python",
   "nbconvert_exporter": "python",
   "pygments_lexer": "ipython3",
   "version": "3.6.1"
  }
 },
 "nbformat": 4,
 "nbformat_minor": 2
}
