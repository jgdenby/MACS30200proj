{
 "cells": [
  {
   "cell_type": "code",
   "execution_count": 55,
   "metadata": {
    "collapsed": true
   },
   "outputs": [],
   "source": [
    "import numpy as np\n",
    "import scipy.stats as sts\n",
    "import matplotlib.pyplot as plt\n",
    "import seaborn as sns\n",
    "import numpy.linalg as LA"
   ]
  },
  {
   "cell_type": "markdown",
   "metadata": {},
   "source": [
    "#### a)."
   ]
  },
  {
   "cell_type": "code",
   "execution_count": 2,
   "metadata": {
    "collapsed": true
   },
   "outputs": [],
   "source": [
    "T = 500\n",
    "sigma = 0.7\n",
    "unif_vec = sts.uniform.rvs(loc=0, scale=1, size=T,\n",
    "random_state=25)\n",
    "eps_vec = sts.norm.ppf(unif_vec, loc=0, scale=sigma)"
   ]
  },
  {
   "cell_type": "code",
   "execution_count": 6,
   "metadata": {
    "collapsed": true
   },
   "outputs": [],
   "source": [
    "rho = 0.85\n",
    "mu = 11.4"
   ]
  },
  {
   "cell_type": "code",
   "execution_count": 7,
   "metadata": {
    "collapsed": true
   },
   "outputs": [],
   "source": [
    "z = np.zeros(500)\n",
    "def simu(z_t, i):\n",
    "    if i < 500:\n",
    "        z_t1 = rho*z_t + (1-rho)*mu + eps_vec[i]\n",
    "        z[i] = z_t1\n",
    "        return simu(z[i], i+1)\n",
    "    else:\n",
    "        return z"
   ]
  },
  {
   "cell_type": "code",
   "execution_count": 11,
   "metadata": {},
   "outputs": [],
   "source": [
    "z=simu(unif_vec[0],0)"
   ]
  },
  {
   "cell_type": "code",
   "execution_count": 12,
   "metadata": {},
   "outputs": [
    {
     "data": {
      "text/plain": [
       "array([ 3.23849021,  4.60812198,  5.2164978 ,  5.51887776,  6.24374493,\n",
       "        6.18543692,  7.30476859,  7.80913311,  8.44675432,  8.65202383,\n",
       "        8.89116037,  8.42012593,  8.77389048,  9.31889733,  8.94063031,\n",
       "        9.34590613,  9.33842967, 10.01310826,  9.98214958, 10.88059339,\n",
       "       10.92575602, 11.02585647, 10.8737385 , 12.92131757, 12.71811919,\n",
       "       12.62439986, 11.16738531, 11.61012107, 11.43907413, 11.32209193,\n",
       "       10.92932058, 11.89810392, 12.13057829, 11.94375158, 11.47441936,\n",
       "       11.50859111, 11.59663594, 12.02894585, 12.59795921, 13.06894091,\n",
       "       11.8213986 , 12.01822875, 11.57692535, 11.59296933, 12.77429957,\n",
       "       13.4019536 , 12.72535125, 12.54826745, 11.43187522, 11.68122987,\n",
       "       10.85853018, 11.44887645, 10.44241322, 10.28012835, 10.77520778,\n",
       "       10.88509369, 11.24180585, 11.44672244, 11.84573871, 11.62898043,\n",
       "       11.4110171 , 12.06395449, 12.35695971, 11.3080389 , 12.02417885,\n",
       "       11.82633057, 11.53746676, 12.47146708, 12.39478164, 11.77768026,\n",
       "       10.37752655,  9.95726401, 10.33455054,  9.80867553, 10.73471194,\n",
       "       11.36376999, 10.69863247, 11.31412652, 11.02940674, 11.03652538,\n",
       "       10.53876661, 11.61558572, 12.07587711, 12.29516877, 10.74260996,\n",
       "       11.13161382, 10.25214034, 11.09545796, 10.29271312, 10.57662193,\n",
       "       10.04490007, 10.8141346 ,  9.62155546, 10.46744376, 10.95330634,\n",
       "       11.00600147, 10.12030101, 11.38642641, 10.42504268, 10.5175304 ,\n",
       "       11.25318995, 10.31756858,  9.99533454, 11.07514555, 11.08632587,\n",
       "       10.51988248, 10.18644166, 10.86816864, 12.16173767, 12.54712106,\n",
       "       12.04767769, 12.51887047, 12.332651  , 11.81830549, 11.93645838,\n",
       "       11.32005482, 11.12934761,  9.43502797,  9.47543424,  9.16672792,\n",
       "        9.34175611,  8.7902888 ,  8.22435603,  9.16756223,  8.86965996,\n",
       "        7.73175901,  9.23695074, 10.5737536 , 10.84416003, 10.5856289 ,\n",
       "       12.75400412, 11.82544231, 13.54069236, 12.41422147, 11.99435595,\n",
       "       11.9597539 , 11.55543909, 12.13746194, 13.25492474, 13.04606284,\n",
       "       12.79796952, 13.18022387, 13.49510287, 12.3578786 , 11.73317348,\n",
       "       11.9095391 , 11.61421079, 10.51361204, 10.42019479,  9.55510158,\n",
       "        8.64091629,  8.67355387,  9.5647188 , 11.01404462, 11.22896675,\n",
       "       12.83327637, 12.02432162, 10.72861394, 10.62228529, 11.28170614,\n",
       "       11.80090672, 12.51047528, 12.40934179, 12.30478345, 12.79911091,\n",
       "       11.79785551, 12.14674766, 10.98486591,  9.53431341,  9.89541994,\n",
       "        9.19192995,  8.8599244 ,  8.93994754,  8.47487147,  9.02391226,\n",
       "        9.22272055,  9.15341065,  9.30969701,  9.49480956, 10.62382448,\n",
       "       10.62933622, 10.95337418,  9.90365107, 11.15362514, 11.67884111,\n",
       "       13.01969748, 12.30824776, 13.46999609, 12.40317482, 12.64378134,\n",
       "       11.4198481 , 11.60335945, 10.48171343, 10.37392986, 10.07419934,\n",
       "        8.91434457,  9.72163663,  9.88800712, 10.88114096, 11.01152492,\n",
       "       11.79220186, 11.40487724, 11.07596992, 10.67492806, 10.65128511,\n",
       "       11.63104408, 11.56076376, 11.26422292, 11.61619952, 10.89341095,\n",
       "       12.11296846, 11.95507926, 12.51187072, 11.31647562, 10.45692411,\n",
       "       10.61189357, 10.60956712, 10.53895207, 10.60460205, 10.70309434,\n",
       "       10.47507334, 10.67886211, 11.28212507, 12.07563922, 12.56025091,\n",
       "       11.05009069, 11.14768932, 11.49463591, 11.25778953, 10.27245428,\n",
       "       10.74771815, 11.00543681, 11.50343508, 11.24995294,  9.57081215,\n",
       "        9.4563895 ,  9.57486183, 10.07894227, 10.19002678, 10.2900131 ,\n",
       "        9.02032356, 10.62370731, 11.08008454, 11.06079415, 10.6541295 ,\n",
       "       10.62709341, 10.6002546 , 10.81066715, 11.18406609, 10.80501889,\n",
       "       10.414868  , 10.82885722,  9.62963184, 10.71799852, 10.64560225,\n",
       "       11.40545423, 11.85270271, 12.25426951, 11.04254063, 12.36781665,\n",
       "       12.48792029, 12.64992464, 12.2029921 , 11.40017727, 10.18130836,\n",
       "       10.44651518, 12.45051772, 12.31550616, 12.4415173 , 12.41983696,\n",
       "       13.36683744, 13.21798178, 12.91747208, 12.52701695, 11.58966104,\n",
       "       10.86089832, 11.6092098 , 10.93018197, 10.51348374, 10.07174164,\n",
       "       10.85977481, 10.87839761,  9.53908492,  9.39775877,  8.90175775,\n",
       "        9.44942981,  9.60034598,  9.43034473,  9.02162227,  9.23968011,\n",
       "       10.35662338, 10.42253163, 11.0782131 , 11.31382473, 11.82005343,\n",
       "       11.67402249, 12.03352253, 12.42899278, 11.63725277, 11.24612717,\n",
       "       11.27700216,  9.87231628, 10.01951603, 10.13408787, 10.61310926,\n",
       "       10.03639167, 10.84885201, 10.88842792, 10.60486001, 10.36628356,\n",
       "       10.63028128, 11.91519659, 11.91324287, 12.27905863, 12.6032502 ,\n",
       "       13.80841046, 13.21343441, 14.00398834, 13.76590141, 14.42649164,\n",
       "       14.94162726, 13.92222373, 12.68827106, 11.9759895 , 12.38685466,\n",
       "       12.34008228, 12.72784132, 12.74698531, 11.42516203, 10.18277812,\n",
       "       11.29309734, 12.12355583, 12.45340695, 13.49875612, 12.20768024,\n",
       "       12.1624885 , 11.49634867, 11.82367474, 11.81731643, 10.98272871,\n",
       "       10.99043304, 10.88404834, 11.24756409, 11.18788563, 11.82585501,\n",
       "       13.46827634, 12.23344845, 12.76845848, 12.32325382, 13.18925287,\n",
       "       13.12782252, 12.70613081, 12.15386293, 11.96777145, 11.96901777,\n",
       "       12.17361311, 12.76928226, 12.66437052, 13.35481632, 13.14280351,\n",
       "       13.5198974 , 13.26902054, 13.00760198, 13.37113088, 12.87174139,\n",
       "       11.96507781, 11.77994426, 11.85713746, 10.86643295, 11.26198502,\n",
       "       10.55607288,  9.96909605, 10.25536231, 12.00341363, 11.80954329,\n",
       "       12.36471701, 11.77570438, 11.27155714, 12.40880845, 11.58525954,\n",
       "       11.27412942, 11.2960673 , 12.1031562 , 12.22174265, 12.18210146,\n",
       "       11.67878524, 11.84525375, 12.24190355, 13.15469886, 12.36084915,\n",
       "       11.23823121, 10.63267983,  9.98678435, 10.16313179, 10.36855128,\n",
       "       11.67887445, 12.21586857, 12.68794297, 11.98888021, 10.85296197,\n",
       "        9.63354073, 10.03525341,  9.54399133, 11.12741709, 10.38006963,\n",
       "       10.55235329, 11.59470762, 12.47458009, 12.81985048, 12.93001416,\n",
       "       11.82789888, 11.57663789, 10.6398643 , 10.95969764, 11.92965435,\n",
       "       12.03515873, 11.77651118, 11.68058372, 11.76157535, 12.34949531,\n",
       "       11.64888301, 11.34914261, 11.94260682, 11.74831468, 11.78431799,\n",
       "       11.02930589, 10.00469577,  9.7355086 ,  9.97106116, 11.25107598,\n",
       "       11.39463478, 11.33990234, 12.67420406, 13.87282176, 13.55110962,\n",
       "       14.00118249, 14.39906624, 14.52992057, 14.66292534, 13.90351119,\n",
       "       13.48360435, 13.73584278, 14.73569352, 14.20869063, 13.8173087 ,\n",
       "       12.1959098 , 11.56611927, 13.14023288, 12.70553584, 12.55985803,\n",
       "       13.13288048, 12.31947224, 11.28216475, 12.06688167, 11.83119502,\n",
       "       11.37903108, 11.38639377, 11.40968502, 11.17374277, 12.02612261,\n",
       "       11.58881747, 12.24192214, 12.1694392 , 11.94435488, 10.80245684,\n",
       "       11.3829564 , 10.78204211, 10.34610853, 10.68974329, 11.65702552,\n",
       "       11.91026801, 11.95938061, 11.8081065 , 12.60349592, 12.09290837,\n",
       "       11.10903392, 12.48778114, 12.2066473 , 11.31293737, 12.01191328,\n",
       "       10.09171867, 10.27300003, 11.12980481, 11.6938928 ,  9.4593635 ,\n",
       "        9.0581187 , 10.68865472, 11.70537139, 13.57891854, 12.99246703,\n",
       "       13.28907215, 13.38089495, 11.81964372, 10.42821254, 11.67976137,\n",
       "       10.11173552,  9.13285424,  8.72975623,  7.93739697,  9.14995291])"
      ]
     },
     "execution_count": 12,
     "metadata": {},
     "output_type": "execute_result"
    }
   ],
   "source": [
    "z"
   ]
  },
  {
   "cell_type": "code",
   "execution_count": 23,
   "metadata": {},
   "outputs": [
    {
     "data": {
      "image/png": "[encoded data removed]",
      "text/plain": [
       "<matplotlib.figure.Figure at 0x117970828>"
      ]
     },
     "metadata": {},
     "output_type": "display_data"
    }
   ],
   "source": [
    "plt.plot(z[:100])\n",
    "plt.title(\"First 100 Values\")\n",
    "plt.xlabel(\"Value\")\n",
    "plt.ylabel(\"$z_t$\")\n",
    "plt.show()"
   ]
  },
  {
   "cell_type": "markdown",
   "metadata": {},
   "source": [
    "#### b)."
   ]
  },
  {
   "cell_type": "code",
   "execution_count": 25,
   "metadata": {
    "collapsed": true
   },
   "outputs": [],
   "source": [
    "lb = mu-3*sigma\n",
    "ub = mu+3*sigma"
   ]
  },
  {
   "cell_type": "code",
   "execution_count": 31,
   "metadata": {},
   "outputs": [
    {
     "data": {
      "text/plain": [
       "array([ 9.3 , 10.35, 11.4 , 12.45, 13.5 ])"
      ]
     },
     "execution_count": 31,
     "metadata": {},
     "output_type": "execute_result"
    }
   ],
   "source": [
    "z_vals = np.linspace(lb,ub,5)\n",
    "z_vals"
   ]
  },
  {
   "cell_type": "markdown",
   "metadata": {},
   "source": [
    "#### c)."
   ]
  },
  {
   "cell_type": "code",
   "execution_count": 32,
   "metadata": {
    "collapsed": true
   },
   "outputs": [],
   "source": [
    "z_cuts = 0.5 * z_vals[:-1] + 0.5 * z_vals[1:]"
   ]
  },
  {
   "cell_type": "code",
   "execution_count": 33,
   "metadata": {},
   "outputs": [
    {
     "data": {
      "text/plain": [
       "array([ 9.825, 10.875, 11.925, 12.975])"
      ]
     },
     "execution_count": 33,
     "metadata": {},
     "output_type": "execute_result"
    }
   ],
   "source": [
    "z_cuts"
   ]
  },
  {
   "cell_type": "code",
   "execution_count": 35,
   "metadata": {},
   "outputs": [],
   "source": [
    "z_bins = np.digitize(z,z_cuts)"
   ]
  },
  {
   "cell_type": "code",
   "execution_count": 36,
   "metadata": {},
   "outputs": [
    {
     "data": {
      "text/plain": [
       "array([0, 0, 0, 0, 0, 0, 0, 0, 0, 0, 0, 0, 0, 0, 0, 0, 0, 1, 1, 2, 2, 2,\n",
       "       1, 3, 3, 3, 2, 2, 2, 2, 2, 2, 3, 3, 2, 2, 2, 3, 3, 4, 2, 3, 2, 2,\n",
       "       3, 4, 3, 3, 2, 2, 1, 2, 1, 1, 1, 2, 2, 2, 2, 2, 2, 3, 3, 2, 3, 2,\n",
       "       2, 3, 3, 2, 1, 1, 1, 0, 1, 2, 1, 2, 2, 2, 1, 2, 3, 3, 1, 2, 1, 2,\n",
       "       1, 1, 1, 1, 0, 1, 2, 2, 1, 2, 1, 1, 2, 1, 1, 2, 2, 1, 1, 1, 3, 3,\n",
       "       3, 3, 3, 2, 3, 2, 2, 0, 0, 0, 0, 0, 0, 0, 0, 0, 0, 1, 1, 1, 3, 2,\n",
       "       4, 3, 3, 3, 2, 3, 4, 4, 3, 4, 4, 3, 2, 2, 2, 1, 1, 0, 0, 0, 0, 2,\n",
       "       2, 3, 3, 1, 1, 2, 2, 3, 3, 3, 3, 2, 3, 2, 0, 1, 0, 0, 0, 0, 0, 0,\n",
       "       0, 0, 0, 1, 1, 2, 1, 2, 2, 4, 3, 4, 3, 3, 2, 2, 1, 1, 1, 0, 0, 1,\n",
       "       2, 2, 2, 2, 2, 1, 1, 2, 2, 2, 2, 2, 3, 3, 3, 2, 1, 1, 1, 1, 1, 1,\n",
       "       1, 1, 2, 3, 3, 2, 2, 2, 2, 1, 1, 2, 2, 2, 0, 0, 0, 1, 1, 1, 0, 1,\n",
       "       2, 2, 1, 1, 1, 1, 2, 1, 1, 1, 0, 1, 1, 2, 2, 3, 2, 3, 3, 3, 3, 2,\n",
       "       1, 1, 3, 3, 3, 3, 4, 4, 3, 3, 2, 1, 2, 2, 1, 1, 1, 2, 0, 0, 0, 0,\n",
       "       0, 0, 0, 0, 1, 1, 2, 2, 2, 2, 3, 3, 2, 2, 2, 1, 1, 1, 1, 1, 1, 2,\n",
       "       1, 1, 1, 2, 2, 3, 3, 4, 4, 4, 4, 4, 4, 4, 3, 3, 3, 3, 3, 3, 2, 1,\n",
       "       2, 3, 3, 4, 3, 3, 2, 2, 2, 2, 2, 2, 2, 2, 2, 4, 3, 3, 3, 4, 4, 3,\n",
       "       3, 3, 3, 3, 3, 3, 4, 4, 4, 4, 4, 4, 3, 3, 2, 2, 1, 2, 1, 1, 1, 3,\n",
       "       2, 3, 2, 2, 3, 2, 2, 2, 3, 3, 3, 2, 2, 3, 4, 3, 2, 1, 1, 1, 1, 2,\n",
       "       3, 3, 3, 1, 0, 1, 0, 2, 1, 1, 2, 3, 3, 3, 2, 2, 1, 2, 3, 3, 2, 2,\n",
       "       2, 3, 2, 2, 3, 2, 2, 2, 1, 0, 1, 2, 2, 2, 3, 4, 4, 4, 4, 4, 4, 4,\n",
       "       4, 4, 4, 4, 4, 3, 2, 4, 3, 3, 4, 3, 2, 3, 2, 2, 2, 2, 2, 3, 2, 3,\n",
       "       3, 3, 1, 2, 1, 1, 1, 2, 2, 3, 2, 3, 3, 2, 3, 3, 2, 3, 1, 1, 2, 2,\n",
       "       0, 0, 1, 2, 4, 4, 4, 4, 2, 1, 2, 1, 0, 0, 0, 0])"
      ]
     },
     "execution_count": 36,
     "metadata": {},
     "output_type": "execute_result"
    }
   ],
   "source": [
    "z_bins"
   ]
  },
  {
   "cell_type": "code",
   "execution_count": 51,
   "metadata": {},
   "outputs": [],
   "source": [
    "P_hat = np.zeros(shape=(5,5))"
   ]
  },
  {
   "cell_type": "code",
   "execution_count": 52,
   "metadata": {},
   "outputs": [],
   "source": [
    "for k in range(0,499):\n",
    "    current = z_bins[k]\n",
    "    nxt = z_bins[k+1]\n",
    "    P_hat[current][nxt] += 1"
   ]
  },
  {
   "cell_type": "code",
   "execution_count": 53,
   "metadata": {},
   "outputs": [],
   "source": [
    "P_hat=P_hat/P_hat.sum(axis = 1, keepdims=True)"
   ]
  },
  {
   "cell_type": "code",
   "execution_count": 54,
   "metadata": {},
   "outputs": [
    {
     "data": {
      "text/plain": [
       "array([[0.75757576, 0.21212121, 0.03030303, 0.        , 0.        ],\n",
       "       [0.1       , 0.50909091, 0.34545455, 0.04545455, 0.        ],\n",
       "       [0.03144654, 0.22012579, 0.48427673, 0.2327044 , 0.03144654],\n",
       "       [0.        , 0.04273504, 0.34188034, 0.5042735 , 0.11111111],\n",
       "       [0.        , 0.        , 0.04255319, 0.34042553, 0.61702128]])"
      ]
     },
     "execution_count": 54,
     "metadata": {},
     "output_type": "execute_result"
    }
   ],
   "source": [
    "P_hat"
   ]
  },
  {
   "cell_type": "markdown",
   "metadata": {},
   "source": [
    "#### d)."
   ]
  },
  {
   "cell_type": "code",
   "execution_count": 60,
   "metadata": {
    "collapsed": true
   },
   "outputs": [],
   "source": [
    "z_t = np.array([[0], [0],[1],[0],[0]])"
   ]
  },
  {
   "cell_type": "code",
   "execution_count": 62,
   "metadata": {},
   "outputs": [],
   "source": [
    "res = LA.matrix_power(P_hat.T,3) @ z_t"
   ]
  },
  {
   "cell_type": "code",
   "execution_count": 64,
   "metadata": {},
   "outputs": [
    {
     "data": {
      "text/plain": [
       "array([0.07752374])"
      ]
     },
     "execution_count": 64,
     "metadata": {},
     "output_type": "execute_result"
    }
   ],
   "source": [
    "res[4]"
   ]
  },
  {
   "cell_type": "markdown",
   "metadata": {},
   "source": [
    "#### e)."
   ]
  },
  {
   "cell_type": "code",
   "execution_count": 66,
   "metadata": {},
   "outputs": [
    {
     "name": "stdout",
     "output_type": "stream",
     "text": [
      "[1.         0.79405964 0.60572911 0.11107399 0.36137544]\n"
     ]
    }
   ],
   "source": [
    "eigvals, eigvecmat = LA.eig(P_hat.T)\n",
    "print(eigvals)"
   ]
  },
  {
   "cell_type": "code",
   "execution_count": 68,
   "metadata": {},
   "outputs": [
    {
     "data": {
      "text/plain": [
       "array([[-0.27491649, -0.70799899,  0.41056991, -0.0232403 , -0.15517844],\n",
       "       [-0.45819415, -0.31439168, -0.43202375,  0.3979737 ,  0.67034374],\n",
       "       [-0.66229881,  0.17835405, -0.60869305, -0.78776471, -0.17657357],\n",
       "       [-0.48735196,  0.49910986,  0.12047379,  0.46652157, -0.63730148],\n",
       "       [-0.19577386,  0.34492677,  0.5096731 , -0.05349027,  0.29870975]])"
      ]
     },
     "execution_count": 68,
     "metadata": {},
     "output_type": "execute_result"
    }
   ],
   "source": [
    "eigvecmat"
   ]
  },
  {
   "cell_type": "code",
   "execution_count": 71,
   "metadata": {},
   "outputs": [
    {
     "data": {
      "text/plain": [
       "array([0.13226453, 0.22044088, 0.31863727, 0.23446894, 0.09418838])"
      ]
     },
     "execution_count": 71,
     "metadata": {},
     "output_type": "execute_result"
    }
   ],
   "source": [
    "eigvec = eigvecmat[:, 0] / eigvecmat[:, 0].sum()\n",
    "state_dist = eigvec\n",
    "state_dist"
   ]
  },
  {
   "cell_type": "markdown",
   "metadata": {},
   "source": [
    "Above is the state probability distribution for the eigenvector for $\\lambda = 1$, i.e., the ergodic distribution."
   ]
  },
  {
   "cell_type": "markdown",
   "metadata": {},
   "source": [
    "#### f)."
   ]
  },
  {
   "cell_type": "code",
   "execution_count": 72,
   "metadata": {
    "collapsed": true
   },
   "outputs": [],
   "source": [
    "z0 = z_vals[2]"
   ]
  },
  {
   "cell_type": "code",
   "execution_count": 75,
   "metadata": {},
   "outputs": [],
   "source": [
    "x_vec = np.zeros(T)\n",
    "x_t = z0\n",
    "xt_ind = 1\n",
    "for t_ind in range(T):\n",
    "    xtp1_ind = \\\n",
    "        np.argwhere(unif_vec[t_ind] <= np.cumsum(P[xt_ind, :])).min()\n",
    "    x_tp1 = z_vals[xtp1_ind]\n",
    "    x_vec[t_ind] = x_tp1\n",
    "    \n",
    "    x_t = x_tp1\n",
    "    xt_ind = xtp1_ind"
   ]
  },
  {
   "cell_type": "code",
   "execution_count": 80,
   "metadata": {},
   "outputs": [
    {
     "data": {
      "image/png": "[encoded data removed]",
      "text/plain": [
       "<matplotlib.figure.Figure at 0x118a688d0>"
      ]
     },
     "metadata": {},
     "output_type": "display_data"
    }
   ],
   "source": [
    "plt.plot(x_vec)\n",
    "plt.plot(z)\n",
    "plt.grid(b=True, which='major', color='0.65', linestyle=':')\n",
    "plt.title(r'Simulated (Markov) vs. Actual', fontsize=20)\n",
    "plt.xlabel(r'Period $t$')\n",
    "plt.ylabel(r'$Z_t$')\n",
    "plt.legend(['Simulated Markov', 'Process'])\n",
    "plt.show()"
   ]
  },
  {
   "cell_type": "code",
   "execution_count": null,
   "metadata": {
    "collapsed": true
   },
   "outputs": [],
   "source": []
  }
 ],
 "metadata": {
  "kernelspec": {
   "display_name": "Python 3",
   "language": "python",
   "name": "python3"
  },
  "language_info": {
   "codemirror_mode": {
    "name": "ipython",
    "version": 3
   },
   "file_extension": ".py",
   "mimetype": "text/x-python",
   "name": "python",
   "nbconvert_exporter": "python",
   "pygments_lexer": "ipython3",
   "version": "3.6.1"
  }
 },
 "nbformat": 4,
 "nbformat_minor": 2
}
