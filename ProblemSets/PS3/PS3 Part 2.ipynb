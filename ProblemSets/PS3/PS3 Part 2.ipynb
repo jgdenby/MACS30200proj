{
 "cells": [
  {
   "cell_type": "code",
   "execution_count": 14,
   "metadata": {},
   "outputs": [],
   "source": [
    "import numpy as np\n",
    "import random\n",
    "from keras import models\n",
    "from keras import layers\n",
    "from keras.utils import to_categorical\n",
    "from keras import regularizers\n",
    "import matplotlib.pyplot as plt"
   ]
  },
  {
   "cell_type": "code",
   "execution_count": 3,
   "metadata": {},
   "outputs": [
    {
     "name": "stdout",
     "output_type": "stream",
     "text": [
      "Downloading data from https://s3.amazonaws.com/keras-datasets/boston_housing.npz\n",
      "57344/57026 [==============================] - 0s 1us/step\n"
     ]
    }
   ],
   "source": [
    "from keras.datasets import boston_housing\n",
    "\n",
    "(train_data, train_targets), (test_data, test_targets) = boston_housing.load_data()"
   ]
  },
  {
   "cell_type": "code",
   "execution_count": 4,
   "metadata": {},
   "outputs": [],
   "source": [
    "mean = train_data.mean(axis=0)\n",
    "train_data -= mean\n",
    "std = train_data.std(axis=0)\n",
    "train_data /= std\n",
    "\n",
    "test_data -= mean\n",
    "test_data /= std"
   ]
  },
  {
   "cell_type": "code",
   "execution_count": 12,
   "metadata": {},
   "outputs": [],
   "source": [
    "def build_model():\n",
    "    model = models.Sequential()\n",
    "    model.add(layers.Dense(64, activation='relu',\n",
    "                           input_shape=(train_data.shape[1],)))\n",
    "    model.add(layers.Dense(64, activation='relu'))\n",
    "    model.add(layers.Dense(1))\n",
    "    model.compile(optimizer='rmsprop', loss='mse')\n",
    "    return model"
   ]
  },
  {
   "cell_type": "code",
   "execution_count": 13,
   "metadata": {},
   "outputs": [
    {
     "name": "stdout",
     "output_type": "stream",
     "text": [
      "processing fold # 0\n",
      "processing fold # 1\n",
      "processing fold # 2\n",
      "processing fold # 3\n",
      "processing fold # 4\n",
      "processing fold # 5\n",
      "processing fold # 6\n",
      "processing fold # 7\n",
      "processing fold # 8\n",
      "processing fold # 9\n"
     ]
    }
   ],
   "source": [
    "k=10\n",
    "num_val_samples = len(train_data) // k\n",
    "num_epochs = 20\n",
    "all_mse_histories = []\n",
    "for i in range(k):\n",
    "    print('processing fold #', i)\n",
    "    val_data = train_data[i * num_val_samples: (i + 1) * num_val_samples]\n",
    "    val_targets = train_targets[i * num_val_samples: (i + 1) * num_val_samples]\n",
    "    partial_train_data = np.concatenate(\n",
    "        [train_data[:i * num_val_samples],\n",
    "         train_data[(i + 1) * num_val_samples:]],\n",
    "        axis=0)\n",
    "    partial_train_targets = np.concatenate(\n",
    "        [train_targets[:i * num_val_samples],\n",
    "         train_targets[(i + 1) * num_val_samples:]],\n",
    "        axis=0)\n",
    "\n",
    "    model = build_model()\n",
    "    history = model.fit(partial_train_data, partial_train_targets,\n",
    "                        validation_data=(val_data, val_targets),\n",
    "                        epochs=num_epochs, batch_size=1, verbose=0)\n",
    "    mse_history = history.history['loss']\n",
    "    all_mse_histories.append(mse_history)\n",
    "    "
   ]
  },
  {
   "cell_type": "code",
   "execution_count": 15,
   "metadata": {},
   "outputs": [
    {
     "data": {
      "image/png": "[encoded data removed]",
      "text/plain": [
       "<matplotlib.figure.Figure at 0x7f1c5f40cef0>"
      ]
     },
     "metadata": {},
     "output_type": "display_data"
    }
   ],
   "source": [
    "average_mse_history = [\n",
    "    np.mean([x[i] for x in all_mse_histories]) for i in range(num_epochs)]\n",
    "\n",
    "plt.plot(range(1, len(average_mse_history) + 1), average_mse_history)\n",
    "plt.xlabel('Epochs')\n",
    "plt.ylabel('Validation MSE')\n",
    "plt.show()"
   ]
  },
  {
   "cell_type": "markdown",
   "metadata": {},
   "source": [
    "More epochs!"
   ]
  },
  {
   "cell_type": "code",
   "execution_count": 16,
   "metadata": {},
   "outputs": [
    {
     "name": "stdout",
     "output_type": "stream",
     "text": [
      "processing fold # 0\n",
      "processing fold # 1\n",
      "processing fold # 2\n",
      "processing fold # 3\n",
      "processing fold # 4\n",
      "processing fold # 5\n",
      "processing fold # 6\n",
      "processing fold # 7\n",
      "processing fold # 8\n",
      "processing fold # 9\n"
     ]
    }
   ],
   "source": [
    "k=10\n",
    "num_val_samples = len(train_data) // k\n",
    "num_epochs = 100\n",
    "all_mse_histories = []\n",
    "for i in range(k):\n",
    "    print('processing fold #', i)\n",
    "    val_data = train_data[i * num_val_samples: (i + 1) * num_val_samples]\n",
    "    val_targets = train_targets[i * num_val_samples: (i + 1) * num_val_samples]\n",
    "    partial_train_data = np.concatenate(\n",
    "        [train_data[:i * num_val_samples],\n",
    "         train_data[(i + 1) * num_val_samples:]],\n",
    "        axis=0)\n",
    "    partial_train_targets = np.concatenate(\n",
    "        [train_targets[:i * num_val_samples],\n",
    "         train_targets[(i + 1) * num_val_samples:]],\n",
    "        axis=0)\n",
    "\n",
    "    model = build_model()\n",
    "    history = model.fit(partial_train_data, partial_train_targets,\n",
    "                        validation_data=(val_data, val_targets),\n",
    "                        epochs=num_epochs, batch_size=1, verbose=0)\n",
    "    mse_history = history.history['loss']\n",
    "    all_mse_histories.append(mse_history)\n",
    "    "
   ]
  },
  {
   "cell_type": "code",
   "execution_count": 17,
   "metadata": {},
   "outputs": [
    {
     "data": {
      "image/png": "[encoded data removed]",
      "text/plain": [
       "<matplotlib.figure.Figure at 0x7f1c5f4b4828>"
      ]
     },
     "metadata": {},
     "output_type": "display_data"
    }
   ],
   "source": [
    "average_mse_history = [\n",
    "    np.mean([x[i] for x in all_mse_histories]) for i in range(num_epochs)]\n",
    "\n",
    "plt.plot(range(1, len(average_mse_history) + 1), average_mse_history)\n",
    "plt.xlabel('Epochs')\n",
    "plt.ylabel('Validation MSE')\n",
    "plt.show()"
   ]
  },
  {
   "cell_type": "markdown",
   "metadata": {},
   "source": [
    "The validation set MSE still seems to be dropping after 100 epochs. I'll try tweaking the model a bit."
   ]
  },
  {
   "cell_type": "code",
   "execution_count": 18,
   "metadata": {},
   "outputs": [],
   "source": [
    "def build_model():\n",
    "    model = models.Sequential()\n",
    "    model.add(layers.Dense(64, activation='relu',\n",
    "                           input_shape=(train_data.shape[1],)))\n",
    "    model.add(layers.Dropout(0.5))\n",
    "    model.add(layers.Dense(64, activation='relu'))\n",
    "    model.add(layers.Dropout(0.5))\n",
    "    model.add(layers.Dense(64, activation='relu'))\n",
    "    model.add(layers.Dropout(0.5))\n",
    "    model.add(layers.Dense(1))\n",
    "    model.compile(optimizer='rmsprop', loss='mse')\n",
    "    return model"
   ]
  },
  {
   "cell_type": "code",
   "execution_count": 19,
   "metadata": {},
   "outputs": [
    {
     "name": "stdout",
     "output_type": "stream",
     "text": [
      "processing fold # 0\n",
      "processing fold # 1\n",
      "processing fold # 2\n",
      "processing fold # 3\n",
      "processing fold # 4\n",
      "processing fold # 5\n",
      "processing fold # 6\n",
      "processing fold # 7\n",
      "processing fold # 8\n",
      "processing fold # 9\n"
     ]
    }
   ],
   "source": [
    "k=10\n",
    "num_val_samples = len(train_data) // k\n",
    "num_epochs = 100\n",
    "all_mse_histories = []\n",
    "for i in range(k):\n",
    "    print('processing fold #', i)\n",
    "    val_data = train_data[i * num_val_samples: (i + 1) * num_val_samples]\n",
    "    val_targets = train_targets[i * num_val_samples: (i + 1) * num_val_samples]\n",
    "    partial_train_data = np.concatenate(\n",
    "        [train_data[:i * num_val_samples],\n",
    "         train_data[(i + 1) * num_val_samples:]],\n",
    "        axis=0)\n",
    "    partial_train_targets = np.concatenate(\n",
    "        [train_targets[:i * num_val_samples],\n",
    "         train_targets[(i + 1) * num_val_samples:]],\n",
    "        axis=0)\n",
    "\n",
    "    model = build_model()\n",
    "    history = model.fit(partial_train_data, partial_train_targets,\n",
    "                        validation_data=(val_data, val_targets),\n",
    "                        epochs=num_epochs, batch_size=1, verbose=0)\n",
    "    mse_history = history.history['loss']\n",
    "    all_mse_histories.append(mse_history)\n",
    "    "
   ]
  },
  {
   "cell_type": "code",
   "execution_count": 20,
   "metadata": {},
   "outputs": [
    {
     "data": {
      "image/png": "[encoded data removed]",
      "text/plain": [
       "<matplotlib.figure.Figure at 0x7f1c1c889fd0>"
      ]
     },
     "metadata": {},
     "output_type": "display_data"
    }
   ],
   "source": [
    "average_mse_history = [\n",
    "    np.mean([x[i] for x in all_mse_histories]) for i in range(num_epochs)]\n",
    "\n",
    "plt.plot(range(1, len(average_mse_history) + 1), average_mse_history)\n",
    "plt.xlabel('Epochs')\n",
    "plt.ylabel('Validation MSE')\n",
    "plt.show()"
   ]
  },
  {
   "cell_type": "code",
   "execution_count": 27,
   "metadata": {},
   "outputs": [
    {
     "data": {
      "text/plain": [
       "30.007427855311704"
      ]
     },
     "execution_count": 27,
     "metadata": {},
     "output_type": "execute_result"
    }
   ],
   "source": [
    "average_mse_history[-1]"
   ]
  },
  {
   "cell_type": "markdown",
   "metadata": {},
   "source": [
    "Not better – will try something else."
   ]
  },
  {
   "cell_type": "code",
   "execution_count": 28,
   "metadata": {},
   "outputs": [],
   "source": [
    "def build_model():\n",
    "    model = models.Sequential()\n",
    "    model.add(layers.Dense(30, activation='relu',\n",
    "                           input_shape=(train_data.shape[1],)))\n",
    "    model.add(layers.Dense(30, activation='relu'))\n",
    "    model.add(layers.Dense(1))\n",
    "    model.compile(optimizer='rmsprop', loss='mse')\n",
    "    return model"
   ]
  },
  {
   "cell_type": "code",
   "execution_count": 29,
   "metadata": {},
   "outputs": [
    {
     "name": "stdout",
     "output_type": "stream",
     "text": [
      "processing fold # 0\n",
      "processing fold # 1\n",
      "processing fold # 2\n",
      "processing fold # 3\n",
      "processing fold # 4\n",
      "processing fold # 5\n",
      "processing fold # 6\n",
      "processing fold # 7\n",
      "processing fold # 8\n",
      "processing fold # 9\n"
     ]
    }
   ],
   "source": [
    "k=10\n",
    "num_val_samples = len(train_data) // k\n",
    "num_epochs = 100\n",
    "all_mse_histories = []\n",
    "for i in range(k):\n",
    "    print('processing fold #', i)\n",
    "    val_data = train_data[i * num_val_samples: (i + 1) * num_val_samples]\n",
    "    val_targets = train_targets[i * num_val_samples: (i + 1) * num_val_samples]\n",
    "    partial_train_data = np.concatenate(\n",
    "        [train_data[:i * num_val_samples],\n",
    "         train_data[(i + 1) * num_val_samples:]],\n",
    "        axis=0)\n",
    "    partial_train_targets = np.concatenate(\n",
    "        [train_targets[:i * num_val_samples],\n",
    "         train_targets[(i + 1) * num_val_samples:]],\n",
    "        axis=0)\n",
    "\n",
    "    model = build_model()\n",
    "    history = model.fit(partial_train_data, partial_train_targets,\n",
    "                        validation_data=(val_data, val_targets),\n",
    "                        epochs=num_epochs, batch_size=1, verbose=0)\n",
    "    mse_history = history.history['loss']\n",
    "    all_mse_histories.append(mse_history)\n",
    "    "
   ]
  },
  {
   "cell_type": "code",
   "execution_count": 30,
   "metadata": {},
   "outputs": [
    {
     "data": {
      "image/png": "[encoded data removed]",
      "text/plain": [
       "<matplotlib.figure.Figure at 0x7f1c1650ba20>"
      ]
     },
     "metadata": {},
     "output_type": "display_data"
    }
   ],
   "source": [
    "average_mse_history = [\n",
    "    np.mean([x[i] for x in all_mse_histories]) for i in range(num_epochs)]\n",
    "\n",
    "plt.plot(range(1, len(average_mse_history) + 1), average_mse_history)\n",
    "plt.xlabel('Epochs')\n",
    "plt.ylabel('Validation MSE')\n",
    "plt.show()"
   ]
  },
  {
   "cell_type": "code",
   "execution_count": 31,
   "metadata": {},
   "outputs": [
    {
     "data": {
      "text/plain": [
       "5.385101174867114"
      ]
     },
     "execution_count": 31,
     "metadata": {},
     "output_type": "execute_result"
    }
   ],
   "source": [
    "average_mse_history[-1]"
   ]
  },
  {
   "cell_type": "markdown",
   "metadata": {},
   "source": [
    "Looks better!"
   ]
  },
  {
   "cell_type": "code",
   "execution_count": 41,
   "metadata": {},
   "outputs": [
    {
     "name": "stdout",
     "output_type": "stream",
     "text": [
      "Epoch 1/100\n",
      "404/404 [==============================] - 2s 5ms/step - loss: 333.0874\n",
      "Epoch 2/100\n",
      "404/404 [==============================] - 1s 3ms/step - loss: 42.8200\n",
      "Epoch 3/100\n",
      "404/404 [==============================] - 1s 3ms/step - loss: 26.2266\n",
      "Epoch 4/100\n",
      "404/404 [==============================] - 1s 3ms/step - loss: 19.8289\n",
      "Epoch 5/100\n",
      "404/404 [==============================] - 1s 3ms/step - loss: 17.4243\n",
      "Epoch 6/100\n",
      "404/404 [==============================] - 1s 3ms/step - loss: 14.9601\n",
      "Epoch 7/100\n",
      "404/404 [==============================] - 1s 3ms/step - loss: 13.5367\n",
      "Epoch 8/100\n",
      "404/404 [==============================] - 1s 3ms/step - loss: 12.4167\n",
      "Epoch 9/100\n",
      "404/404 [==============================] - 1s 3ms/step - loss: 11.9354\n",
      "Epoch 10/100\n",
      "404/404 [==============================] - 1s 3ms/step - loss: 11.6424\n",
      "Epoch 11/100\n",
      "404/404 [==============================] - 1s 3ms/step - loss: 10.8918\n",
      "Epoch 12/100\n",
      "404/404 [==============================] - 1s 3ms/step - loss: 10.3753\n",
      "Epoch 13/100\n",
      "404/404 [==============================] - 1s 3ms/step - loss: 10.1865\n",
      "Epoch 14/100\n",
      "404/404 [==============================] - 1s 3ms/step - loss: 9.6556\n",
      "Epoch 15/100\n",
      "404/404 [==============================] - 1s 3ms/step - loss: 9.5532\n",
      "Epoch 16/100\n",
      "404/404 [==============================] - 1s 3ms/step - loss: 9.0880\n",
      "Epoch 17/100\n",
      "404/404 [==============================] - 1s 3ms/step - loss: 9.1890\n",
      "Epoch 18/100\n",
      "404/404 [==============================] - 1s 3ms/step - loss: 9.0862\n",
      "Epoch 19/100\n",
      "404/404 [==============================] - 1s 3ms/step - loss: 9.0131\n",
      "Epoch 20/100\n",
      "404/404 [==============================] - 1s 3ms/step - loss: 8.7619\n",
      "Epoch 21/100\n",
      "404/404 [==============================] - 1s 3ms/step - loss: 8.8829\n",
      "Epoch 22/100\n",
      "404/404 [==============================] - 1s 3ms/step - loss: 8.3670\n",
      "Epoch 23/100\n",
      "404/404 [==============================] - 1s 3ms/step - loss: 8.3878\n",
      "Epoch 24/100\n",
      "404/404 [==============================] - 1s 3ms/step - loss: 8.0236\n",
      "Epoch 25/100\n",
      "404/404 [==============================] - 1s 3ms/step - loss: 8.1222\n",
      "Epoch 26/100\n",
      "404/404 [==============================] - 1s 3ms/step - loss: 7.9049\n",
      "Epoch 27/100\n",
      "404/404 [==============================] - 1s 3ms/step - loss: 7.9184\n",
      "Epoch 28/100\n",
      "404/404 [==============================] - 1s 3ms/step - loss: 7.7638\n",
      "Epoch 29/100\n",
      "404/404 [==============================] - 1s 3ms/step - loss: 7.6332\n",
      "Epoch 30/100\n",
      "404/404 [==============================] - 1s 3ms/step - loss: 7.7910\n",
      "Epoch 31/100\n",
      "404/404 [==============================] - 1s 3ms/step - loss: 7.6747\n",
      "Epoch 32/100\n",
      "404/404 [==============================] - 1s 3ms/step - loss: 7.7342\n",
      "Epoch 33/100\n",
      "404/404 [==============================] - 1s 3ms/step - loss: 7.3295\n",
      "Epoch 34/100\n",
      "404/404 [==============================] - 1s 3ms/step - loss: 7.7445\n",
      "Epoch 35/100\n",
      "404/404 [==============================] - 1s 3ms/step - loss: 7.3506\n",
      "Epoch 36/100\n",
      "404/404 [==============================] - 1s 3ms/step - loss: 7.1184\n",
      "Epoch 37/100\n",
      "404/404 [==============================] - 1s 3ms/step - loss: 7.5130\n",
      "Epoch 38/100\n",
      "404/404 [==============================] - 1s 3ms/step - loss: 6.9793\n",
      "Epoch 39/100\n",
      "404/404 [==============================] - 1s 3ms/step - loss: 7.2072\n",
      "Epoch 40/100\n",
      "404/404 [==============================] - 1s 3ms/step - loss: 7.1544\n",
      "Epoch 41/100\n",
      "404/404 [==============================] - 1s 3ms/step - loss: 6.7586\n",
      "Epoch 42/100\n",
      "404/404 [==============================] - 1s 3ms/step - loss: 6.7406\n",
      "Epoch 43/100\n",
      "404/404 [==============================] - 1s 3ms/step - loss: 6.6659\n",
      "Epoch 44/100\n",
      "404/404 [==============================] - 1s 3ms/step - loss: 6.7766\n",
      "Epoch 45/100\n",
      "404/404 [==============================] - 1s 3ms/step - loss: 6.5898\n",
      "Epoch 46/100\n",
      "404/404 [==============================] - 1s 3ms/step - loss: 6.7272\n",
      "Epoch 47/100\n",
      "404/404 [==============================] - 1s 3ms/step - loss: 6.3454\n",
      "Epoch 48/100\n",
      "404/404 [==============================] - 1s 3ms/step - loss: 6.6117\n",
      "Epoch 49/100\n",
      "404/404 [==============================] - 1s 3ms/step - loss: 6.3435\n",
      "Epoch 50/100\n",
      "404/404 [==============================] - 1s 3ms/step - loss: 6.6743\n",
      "Epoch 51/100\n",
      "404/404 [==============================] - 1s 3ms/step - loss: 6.5924\n",
      "Epoch 52/100\n",
      "404/404 [==============================] - 1s 3ms/step - loss: 6.4997\n",
      "Epoch 53/100\n",
      "404/404 [==============================] - 1s 3ms/step - loss: 6.5005\n",
      "Epoch 54/100\n",
      "404/404 [==============================] - 1s 3ms/step - loss: 6.5784\n",
      "Epoch 55/100\n",
      "404/404 [==============================] - 1s 3ms/step - loss: 6.3554\n",
      "Epoch 56/100\n",
      "404/404 [==============================] - 1s 3ms/step - loss: 6.1829\n",
      "Epoch 57/100\n",
      "404/404 [==============================] - 1s 3ms/step - loss: 6.3650\n",
      "Epoch 58/100\n",
      "404/404 [==============================] - 1s 3ms/step - loss: 5.9873\n",
      "Epoch 59/100\n",
      "404/404 [==============================] - 1s 3ms/step - loss: 5.9227\n",
      "Epoch 60/100\n",
      "404/404 [==============================] - 1s 3ms/step - loss: 6.1992\n",
      "Epoch 61/100\n",
      "404/404 [==============================] - 1s 3ms/step - loss: 6.1320\n",
      "Epoch 62/100\n",
      "404/404 [==============================] - 1s 3ms/step - loss: 5.9462\n",
      "Epoch 63/100\n",
      "404/404 [==============================] - 1s 3ms/step - loss: 5.9038\n",
      "Epoch 64/100\n",
      "404/404 [==============================] - 1s 3ms/step - loss: 5.9722\n",
      "Epoch 65/100\n",
      "404/404 [==============================] - 1s 3ms/step - loss: 5.8806\n",
      "Epoch 66/100\n",
      "404/404 [==============================] - 1s 3ms/step - loss: 5.6475\n",
      "Epoch 67/100\n",
      "404/404 [==============================] - 1s 3ms/step - loss: 5.9823\n",
      "Epoch 68/100\n",
      "404/404 [==============================] - 1s 3ms/step - loss: 5.4549\n",
      "Epoch 69/100\n",
      "404/404 [==============================] - 1s 3ms/step - loss: 5.9611\n",
      "Epoch 70/100\n",
      "404/404 [==============================] - 1s 3ms/step - loss: 5.7531\n",
      "Epoch 71/100\n",
      "404/404 [==============================] - 1s 3ms/step - loss: 5.8173\n",
      "Epoch 72/100\n",
      "404/404 [==============================] - 1s 3ms/step - loss: 5.7630\n",
      "Epoch 73/100\n",
      "404/404 [==============================] - 1s 3ms/step - loss: 5.4340\n",
      "Epoch 74/100\n",
      "404/404 [==============================] - 1s 3ms/step - loss: 5.8904\n",
      "Epoch 75/100\n",
      "404/404 [==============================] - 1s 3ms/step - loss: 5.7052\n",
      "Epoch 76/100\n",
      "404/404 [==============================] - 1s 3ms/step - loss: 5.8713\n",
      "Epoch 77/100\n",
      "404/404 [==============================] - 1s 3ms/step - loss: 5.4698\n",
      "Epoch 78/100\n",
      "404/404 [==============================] - 1s 3ms/step - loss: 5.6071\n",
      "Epoch 79/100\n",
      "404/404 [==============================] - 1s 3ms/step - loss: 5.7412\n",
      "Epoch 80/100\n",
      "404/404 [==============================] - 1s 3ms/step - loss: 5.5748\n",
      "Epoch 81/100\n",
      "404/404 [==============================] - 1s 3ms/step - loss: 5.3635\n",
      "Epoch 82/100\n",
      "404/404 [==============================] - 1s 3ms/step - loss: 5.6335\n",
      "Epoch 83/100\n",
      "404/404 [==============================] - 1s 3ms/step - loss: 5.3181\n",
      "Epoch 84/100\n",
      "404/404 [==============================] - 1s 3ms/step - loss: 5.6335\n",
      "Epoch 85/100\n",
      "404/404 [==============================] - 1s 3ms/step - loss: 5.3807\n",
      "Epoch 86/100\n",
      "404/404 [==============================] - 1s 3ms/step - loss: 5.2393\n",
      "Epoch 87/100\n",
      "404/404 [==============================] - 1s 3ms/step - loss: 5.3077\n",
      "Epoch 88/100\n",
      "404/404 [==============================] - 1s 3ms/step - loss: 5.2078\n",
      "Epoch 89/100\n",
      "404/404 [==============================] - 1s 3ms/step - loss: 5.2464\n",
      "Epoch 90/100\n",
      "404/404 [==============================] - 1s 3ms/step - loss: 5.3168\n",
      "Epoch 91/100\n",
      "404/404 [==============================] - 1s 3ms/step - loss: 5.0731\n",
      "Epoch 92/100\n",
      "404/404 [==============================] - 1s 3ms/step - loss: 5.1947\n",
      "Epoch 93/100\n",
      "404/404 [==============================] - 1s 3ms/step - loss: 5.3270\n",
      "Epoch 94/100\n",
      "404/404 [==============================] - 1s 3ms/step - loss: 5.2854\n",
      "Epoch 95/100\n",
      "404/404 [==============================] - 1s 3ms/step - loss: 5.2778\n",
      "Epoch 96/100\n",
      "404/404 [==============================] - 1s 3ms/step - loss: 5.1532\n",
      "Epoch 97/100\n",
      "404/404 [==============================] - 1s 3ms/step - loss: 5.2675\n",
      "Epoch 98/100\n",
      "404/404 [==============================] - 1s 3ms/step - loss: 5.1042\n",
      "Epoch 99/100\n"
     ]
    },
    {
     "name": "stdout",
     "output_type": "stream",
     "text": [
      "404/404 [==============================] - 1s 3ms/step - loss: 5.2474\n",
      "Epoch 100/100\n",
      "404/404 [==============================] - 1s 3ms/step - loss: 5.0157\n"
     ]
    }
   ],
   "source": [
    "model = build_model()\n",
    "history = model.fit(train_data, train_targets, epochs=num_epochs, batch_size=1)"
   ]
  },
  {
   "cell_type": "code",
   "execution_count": 42,
   "metadata": {},
   "outputs": [
    {
     "name": "stdout",
     "output_type": "stream",
     "text": [
      "102/102 [==============================] - 0s 4ms/step\n"
     ]
    }
   ],
   "source": [
    "test_mse_score = model.evaluate(test_data, test_targets)"
   ]
  },
  {
   "cell_type": "code",
   "execution_count": 43,
   "metadata": {},
   "outputs": [
    {
     "data": {
      "text/plain": [
       "15.18050833309398"
      ]
     },
     "execution_count": 43,
     "metadata": {},
     "output_type": "execute_result"
    }
   ],
   "source": [
    "test_mse_score"
   ]
  },
  {
   "cell_type": "code",
   "execution_count": null,
   "metadata": {},
   "outputs": [],
   "source": []
  }
 ],
 "metadata": {
  "kernelspec": {
   "display_name": "Python 3",
   "language": "python",
   "name": "python3"
  },
  "language_info": {
   "codemirror_mode": {
    "name": "ipython",
    "version": 3
   },
   "file_extension": ".py",
   "mimetype": "text/x-python",
   "name": "python",
   "nbconvert_exporter": "python",
   "pygments_lexer": "ipython3",
   "version": "3.5.2"
  }
 },
 "nbformat": 4,
 "nbformat_minor": 2
}
