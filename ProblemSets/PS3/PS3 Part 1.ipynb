{
 "cells": [
  {
   "cell_type": "code",
   "execution_count": 86,
   "metadata": {},
   "outputs": [],
   "source": [
    "import numpy as np\n",
    "import random\n",
    "from keras.datasets import mnist\n",
    "from keras import models\n",
    "from keras import layers\n",
    "from keras.utils import to_categorical\n",
    "from keras import regularizers"
   ]
  },
  {
   "cell_type": "code",
   "execution_count": 4,
   "metadata": {},
   "outputs": [],
   "source": [
    "random.seed(1234)"
   ]
  },
  {
   "cell_type": "code",
   "execution_count": 51,
   "metadata": {},
   "outputs": [],
   "source": [
    "(train_images, train_labels), (test_images, test_labels) = mnist.load_data()"
   ]
  },
  {
   "cell_type": "code",
   "execution_count": 52,
   "metadata": {},
   "outputs": [],
   "source": [
    "train_images = train_images.reshape((60000, 28 * 28))\n",
    "train_images = train_images.astype('float32') / 255\n",
    "\n",
    "test_images = test_images.reshape((10000, 28 * 28))\n",
    "test_images = test_images.astype('float32') / 255\n",
    "train_labels = to_categorical(train_labels)\n",
    "test_labels = to_categorical(test_labels)"
   ]
  },
  {
   "cell_type": "code",
   "execution_count": 55,
   "metadata": {},
   "outputs": [],
   "source": [
    "x_val = train_images[:10000]\n",
    "partial_x_train = train_images[10000:]\n",
    "y_val = train_labels[:10000]\n",
    "partial_y_train = train_labels[10000:]"
   ]
  },
  {
   "cell_type": "code",
   "execution_count": 58,
   "metadata": {},
   "outputs": [
    {
     "data": {
      "text/plain": [
       "(50000, 10)"
      ]
     },
     "execution_count": 58,
     "metadata": {},
     "output_type": "execute_result"
    }
   ],
   "source": [
    "partial_y_train.shape"
   ]
  },
  {
   "cell_type": "code",
   "execution_count": 34,
   "metadata": {},
   "outputs": [],
   "source": [
    "#indices = np.random.permutation(train_images.shape[0])\n",
    "#training_idx, val_idx = indices[:50000], indices[50000:]\n",
    "#training, validation = train_images[training_idx,:], train_images[val_idx,:]\n",
    "#training_labels, val_labels = train_labels[training_idx,:], train_labels[val_idx,:]"
   ]
  },
  {
   "cell_type": "code",
   "execution_count": 27,
   "metadata": {},
   "outputs": [],
   "source": [
    "#np.random.shuffle(train_images)\n",
    "#training, validation = train_images[:50000,:], train_images[50000:,:]\n"
   ]
  },
  {
   "cell_type": "markdown",
   "metadata": {},
   "source": [
    "### (i)"
   ]
  },
  {
   "cell_type": "code",
   "execution_count": 77,
   "metadata": {},
   "outputs": [],
   "source": [
    "network = models.Sequential()\n",
    "network.add(layers.Dense(512, activation='relu', input_shape=(28 * 28,)))\n",
    "network.add(layers.Dense(512, activation='relu'))\n",
    "network.add(layers.Dense(512, activation='relu'))\n",
    "network.add(layers.Dense(512, activation='relu'))\n",
    "network.add(layers.Dense(10, activation='softmax'))"
   ]
  },
  {
   "cell_type": "code",
   "execution_count": 78,
   "metadata": {},
   "outputs": [],
   "source": [
    "network.compile(optimizer='rmsprop',\n",
    "                loss='categorical_crossentropy',\n",
    "                metrics=['accuracy'])"
   ]
  },
  {
   "cell_type": "code",
   "execution_count": 79,
   "metadata": {},
   "outputs": [
    {
     "name": "stdout",
     "output_type": "stream",
     "text": [
      "Train on 50000 samples, validate on 10000 samples\n",
      "Epoch 1/20\n",
      "50000/50000 [==============================] - 1s 25us/step - loss: 0.5191 - acc: 0.8352 - val_loss: 0.1805 - val_acc: 0.9476\n",
      "Epoch 2/20\n",
      "50000/50000 [==============================] - 1s 15us/step - loss: 0.1598 - acc: 0.9528 - val_loss: 0.1566 - val_acc: 0.9559\n",
      "Epoch 3/20\n",
      "50000/50000 [==============================] - 1s 15us/step - loss: 0.0960 - acc: 0.9709 - val_loss: 0.0913 - val_acc: 0.9744\n",
      "Epoch 4/20\n",
      "50000/50000 [==============================] - 1s 15us/step - loss: 0.0646 - acc: 0.9804 - val_loss: 0.1143 - val_acc: 0.9653\n",
      "Epoch 5/20\n",
      "50000/50000 [==============================] - 1s 15us/step - loss: 0.0462 - acc: 0.9863 - val_loss: 0.0999 - val_acc: 0.9723\n",
      "Epoch 6/20\n",
      "50000/50000 [==============================] - 1s 15us/step - loss: 0.0361 - acc: 0.9893 - val_loss: 0.1005 - val_acc: 0.9735\n",
      "Epoch 7/20\n",
      "50000/50000 [==============================] - 1s 15us/step - loss: 0.0289 - acc: 0.9911 - val_loss: 0.0942 - val_acc: 0.9765\n",
      "Epoch 8/20\n",
      "50000/50000 [==============================] - 1s 15us/step - loss: 0.0221 - acc: 0.9933 - val_loss: 0.0919 - val_acc: 0.9791\n",
      "Epoch 9/20\n",
      "50000/50000 [==============================] - 1s 15us/step - loss: 0.0210 - acc: 0.9932 - val_loss: 0.0900 - val_acc: 0.9795\n",
      "Epoch 10/20\n",
      "50000/50000 [==============================] - 1s 15us/step - loss: 0.0155 - acc: 0.9953 - val_loss: 0.1034 - val_acc: 0.9790\n",
      "Epoch 11/20\n",
      "50000/50000 [==============================] - 1s 15us/step - loss: 0.0145 - acc: 0.9959 - val_loss: 0.1427 - val_acc: 0.9738\n",
      "Epoch 12/20\n",
      "50000/50000 [==============================] - 1s 15us/step - loss: 0.0137 - acc: 0.9959 - val_loss: 0.1088 - val_acc: 0.9810\n",
      "Epoch 13/20\n",
      "50000/50000 [==============================] - 1s 15us/step - loss: 0.0137 - acc: 0.9958 - val_loss: 0.1410 - val_acc: 0.9751\n",
      "Epoch 14/20\n",
      "50000/50000 [==============================] - 1s 15us/step - loss: 0.0128 - acc: 0.9967 - val_loss: 0.1250 - val_acc: 0.9760\n",
      "Epoch 15/20\n",
      "50000/50000 [==============================] - 1s 15us/step - loss: 0.0117 - acc: 0.9969 - val_loss: 0.1281 - val_acc: 0.9762\n",
      "Epoch 16/20\n",
      "50000/50000 [==============================] - 1s 15us/step - loss: 0.0126 - acc: 0.9969 - val_loss: 0.1211 - val_acc: 0.9806\n",
      "Epoch 17/20\n",
      "50000/50000 [==============================] - 1s 15us/step - loss: 0.0125 - acc: 0.9971 - val_loss: 0.1282 - val_acc: 0.9789\n",
      "Epoch 18/20\n",
      "50000/50000 [==============================] - 1s 15us/step - loss: 0.0094 - acc: 0.9975 - val_loss: 0.1549 - val_acc: 0.9766\n",
      "Epoch 19/20\n",
      "50000/50000 [==============================] - 1s 15us/step - loss: 0.0093 - acc: 0.9979 - val_loss: 0.1547 - val_acc: 0.9755\n",
      "Epoch 20/20\n",
      "50000/50000 [==============================] - 1s 15us/step - loss: 0.0082 - acc: 0.9979 - val_loss: 0.1401 - val_acc: 0.9802\n"
     ]
    }
   ],
   "source": [
    "history = network.fit(partial_x_train,\n",
    "                    partial_y_train,\n",
    "                    epochs=20,\n",
    "                    batch_size=512,\n",
    "                    validation_data=(x_val, y_val))"
   ]
  },
  {
   "cell_type": "code",
   "execution_count": 80,
   "metadata": {},
   "outputs": [
    {
     "data": {
      "image/png": "[encoded data removed]",
      "text/plain": [
       "<matplotlib.figure.Figure at 0x7f5c26276c88>"
      ]
     },
     "metadata": {},
     "output_type": "display_data"
    }
   ],
   "source": [
    "import matplotlib.pyplot as plt\n",
    "\n",
    "history_dict = history.history\n",
    "loss_values = history_dict['loss']\n",
    "val_loss_values = history_dict['val_loss']\n",
    "\n",
    "epochs = range(1, len(loss_values) + 1)\n",
    "\n",
    "plt.plot(epochs, loss_values, 'bo', label='Training loss')\n",
    "plt.plot(epochs, val_loss_values, 'b', label='Validation loss')\n",
    "plt.title('Training and validation loss')\n",
    "plt.xlabel('Epochs')\n",
    "plt.ylabel('Loss')\n",
    "plt.legend()\n",
    "\n",
    "plt.show()"
   ]
  },
  {
   "cell_type": "code",
   "execution_count": 81,
   "metadata": {},
   "outputs": [
    {
     "data": {
      "image/png": "[encoded data removed]",
      "text/plain": [
       "<matplotlib.figure.Figure at 0x7f5c26244cc0>"
      ]
     },
     "metadata": {},
     "output_type": "display_data"
    }
   ],
   "source": [
    "plt.clf()\n",
    "acc_values = history_dict['acc']\n",
    "val_acc_values = history_dict['val_acc']\n",
    "\n",
    "plt.plot(epochs, acc_values, 'bo', label='Training acc')\n",
    "plt.plot(epochs, val_acc_values, 'b', label='Validation acc')\n",
    "plt.title('Training and validation accuracy')\n",
    "plt.xlabel('Epochs')\n",
    "plt.ylabel('Loss')\n",
    "plt.legend()\n",
    "\n",
    "plt.show()\n"
   ]
  },
  {
   "cell_type": "markdown",
   "metadata": {},
   "source": [
    "Based on the model's performance with the validation set, it appears that the model does best with Epoch 5."
   ]
  },
  {
   "cell_type": "markdown",
   "metadata": {},
   "source": [
    "### (ii)"
   ]
  },
  {
   "cell_type": "code",
   "execution_count": 82,
   "metadata": {},
   "outputs": [],
   "source": [
    "network2 = models.Sequential()\n",
    "network2.add(layers.Dense(512, activation='relu', input_shape=(28 * 28,)))\n",
    "network2.add(layers.Dropout(0.5))\n",
    "network2.add(layers.Dense(512, activation='relu'))\n",
    "network2.add(layers.Dropout(0.5))\n",
    "network2.add(layers.Dense(512, activation='relu'))\n",
    "network2.add(layers.Dropout(0.5))\n",
    "network2.add(layers.Dense(512, activation='relu'))\n",
    "network2.add(layers.Dropout(0.5))\n",
    "network2.add(layers.Dense(10, activation='softmax'))"
   ]
  },
  {
   "cell_type": "code",
   "execution_count": 83,
   "metadata": {},
   "outputs": [],
   "source": [
    "network2.compile(optimizer='rmsprop',\n",
    "                loss='categorical_crossentropy',\n",
    "                metrics=['accuracy'])"
   ]
  },
  {
   "cell_type": "code",
   "execution_count": 84,
   "metadata": {},
   "outputs": [
    {
     "name": "stdout",
     "output_type": "stream",
     "text": [
      "Train on 50000 samples, validate on 10000 samples\n",
      "Epoch 1/20\n",
      "50000/50000 [==============================] - 1s 27us/step - loss: 0.7275 - acc: 0.7609 - val_loss: 0.1972 - val_acc: 0.9422\n",
      "Epoch 2/20\n",
      "50000/50000 [==============================] - 1s 17us/step - loss: 0.2681 - acc: 0.9221 - val_loss: 0.1725 - val_acc: 0.9496\n",
      "Epoch 3/20\n",
      "50000/50000 [==============================] - 1s 17us/step - loss: 0.1977 - acc: 0.9432 - val_loss: 0.1168 - val_acc: 0.9663\n",
      "Epoch 4/20\n",
      "50000/50000 [==============================] - 1s 17us/step - loss: 0.1646 - acc: 0.9543 - val_loss: 0.1093 - val_acc: 0.9691\n",
      "Epoch 5/20\n",
      "50000/50000 [==============================] - 1s 17us/step - loss: 0.1469 - acc: 0.9584 - val_loss: 0.1012 - val_acc: 0.9711\n",
      "Epoch 6/20\n",
      "50000/50000 [==============================] - 1s 17us/step - loss: 0.1303 - acc: 0.9643 - val_loss: 0.0970 - val_acc: 0.9730\n",
      "Epoch 7/20\n",
      "50000/50000 [==============================] - 1s 17us/step - loss: 0.1147 - acc: 0.9675 - val_loss: 0.0881 - val_acc: 0.9760\n",
      "Epoch 8/20\n",
      "50000/50000 [==============================] - 1s 17us/step - loss: 0.1098 - acc: 0.9688 - val_loss: 0.0860 - val_acc: 0.9776\n",
      "Epoch 9/20\n",
      "50000/50000 [==============================] - 1s 17us/step - loss: 0.1007 - acc: 0.9721 - val_loss: 0.0878 - val_acc: 0.9775\n",
      "Epoch 10/20\n",
      "50000/50000 [==============================] - 1s 17us/step - loss: 0.0940 - acc: 0.9734 - val_loss: 0.0859 - val_acc: 0.9778\n",
      "Epoch 11/20\n",
      "50000/50000 [==============================] - 1s 17us/step - loss: 0.0886 - acc: 0.9755 - val_loss: 0.0900 - val_acc: 0.9785\n",
      "Epoch 12/20\n",
      "50000/50000 [==============================] - 1s 17us/step - loss: 0.0842 - acc: 0.9768 - val_loss: 0.0839 - val_acc: 0.9795\n",
      "Epoch 13/20\n",
      "50000/50000 [==============================] - 1s 17us/step - loss: 0.0804 - acc: 0.9784 - val_loss: 0.0887 - val_acc: 0.9771\n",
      "Epoch 14/20\n",
      "50000/50000 [==============================] - 1s 18us/step - loss: 0.0780 - acc: 0.9782 - val_loss: 0.0833 - val_acc: 0.9789\n",
      "Epoch 15/20\n",
      "50000/50000 [==============================] - 1s 18us/step - loss: 0.0759 - acc: 0.9798 - val_loss: 0.0856 - val_acc: 0.9780\n",
      "Epoch 16/20\n",
      "50000/50000 [==============================] - 1s 17us/step - loss: 0.0695 - acc: 0.9805 - val_loss: 0.0792 - val_acc: 0.9807\n",
      "Epoch 17/20\n",
      "50000/50000 [==============================] - 1s 17us/step - loss: 0.0717 - acc: 0.9811 - val_loss: 0.0766 - val_acc: 0.9813\n",
      "Epoch 18/20\n",
      "50000/50000 [==============================] - 1s 17us/step - loss: 0.0684 - acc: 0.9818 - val_loss: 0.0930 - val_acc: 0.9799\n",
      "Epoch 19/20\n",
      "50000/50000 [==============================] - 1s 17us/step - loss: 0.0668 - acc: 0.9819 - val_loss: 0.0896 - val_acc: 0.9803\n",
      "Epoch 20/20\n",
      "50000/50000 [==============================] - 1s 17us/step - loss: 0.0656 - acc: 0.9828 - val_loss: 0.0906 - val_acc: 0.9795\n"
     ]
    }
   ],
   "source": [
    "history2 = network2.fit(partial_x_train,\n",
    "                    partial_y_train,\n",
    "                    epochs=20,\n",
    "                    batch_size=512,\n",
    "                    validation_data=(x_val, y_val))"
   ]
  },
  {
   "cell_type": "code",
   "execution_count": 85,
   "metadata": {},
   "outputs": [
    {
     "data": {
      "image/png": "[encoded data removed]",
      "text/plain": [
       "<matplotlib.figure.Figure at 0x7f5bb017bba8>"
      ]
     },
     "metadata": {},
     "output_type": "display_data"
    }
   ],
   "source": [
    "import matplotlib.pyplot as plt\n",
    "\n",
    "history_dict = history.history\n",
    "loss_values = history_dict['loss']\n",
    "val_loss_values = history_dict['val_loss']\n",
    "\n",
    "history_dict2 = history2.history\n",
    "loss_values2 = history_dict2['loss']\n",
    "val_loss_values2 = history_dict2['val_loss']\n",
    "\n",
    "epochs = range(1, len(loss_values) + 1)\n",
    "\n",
    "plt.plot(epochs, loss_values, 'bo', label='Model 1: Training loss')\n",
    "plt.plot(epochs, val_loss_values, 'b', label='Model 1: Validation loss')\n",
    "plt.plot(epochs, loss_values2, 'ro', label='Model 2: Training loss')\n",
    "plt.plot(epochs, val_loss_values2, 'r', label='Model 2: Validation loss')\n",
    "plt.title('Training and validation loss')\n",
    "plt.xlabel('Epochs')\n",
    "plt.ylabel('Loss')\n",
    "plt.legend()\n",
    "\n",
    "plt.show()"
   ]
  },
  {
   "cell_type": "markdown",
   "metadata": {},
   "source": [
    "Based on the validation set's loss trajectory, it seems like this new model does better than the first."
   ]
  },
  {
   "cell_type": "markdown",
   "metadata": {},
   "source": [
    "### (iii)"
   ]
  },
  {
   "cell_type": "code",
   "execution_count": 88,
   "metadata": {},
   "outputs": [],
   "source": [
    "network3 = models.Sequential()\n",
    "network3.add(layers.Dense(512, kernel_regularizer=regularizers.l1_l2(l1=0.001, l2=0.001), activation='relu', input_shape=(28 * 28,)))\n",
    "network3.add(layers.Dense(512, kernel_regularizer=regularizers.l1_l2(l1=0.001, l2=0.001),activation='relu'))\n",
    "network3.add(layers.Dense(512, kernel_regularizer=regularizers.l1_l2(l1=0.001, l2=0.001),activation='relu'))\n",
    "network3.add(layers.Dense(512, kernel_regularizer=regularizers.l1_l2(l1=0.001, l2=0.001),activation='relu'))\n",
    "network3.add(layers.Dense(10, activation='softmax'))"
   ]
  },
  {
   "cell_type": "code",
   "execution_count": 89,
   "metadata": {},
   "outputs": [],
   "source": [
    "network3.compile(optimizer='rmsprop',\n",
    "                loss='categorical_crossentropy',\n",
    "                metrics=['accuracy'])"
   ]
  },
  {
   "cell_type": "code",
   "execution_count": 90,
   "metadata": {},
   "outputs": [
    {
     "name": "stdout",
     "output_type": "stream",
     "text": [
      "Train on 50000 samples, validate on 10000 samples\n",
      "Epoch 1/20\n",
      "50000/50000 [==============================] - 2s 31us/step - loss: 13.9861 - acc: 0.6518 - val_loss: 3.9277 - val_acc: 0.7263\n",
      "Epoch 2/20\n",
      "50000/50000 [==============================] - 1s 17us/step - loss: 3.0110 - acc: 0.7734 - val_loss: 2.4568 - val_acc: 0.7960\n",
      "Epoch 3/20\n",
      "50000/50000 [==============================] - 1s 17us/step - loss: 2.1973 - acc: 0.8239 - val_loss: 2.0162 - val_acc: 0.8261\n",
      "Epoch 4/20\n",
      "50000/50000 [==============================] - 1s 17us/step - loss: 1.8892 - acc: 0.8453 - val_loss: 1.7358 - val_acc: 0.8818\n",
      "Epoch 5/20\n",
      "50000/50000 [==============================] - 1s 17us/step - loss: 1.7089 - acc: 0.8664 - val_loss: 1.7144 - val_acc: 0.8482\n",
      "Epoch 6/20\n",
      "50000/50000 [==============================] - 1s 17us/step - loss: 1.5923 - acc: 0.8803 - val_loss: 1.5016 - val_acc: 0.9051\n",
      "Epoch 7/20\n",
      "50000/50000 [==============================] - 1s 17us/step - loss: 1.5058 - acc: 0.8914 - val_loss: 1.4388 - val_acc: 0.9062\n",
      "Epoch 8/20\n",
      "50000/50000 [==============================] - 1s 17us/step - loss: 1.4322 - acc: 0.8991 - val_loss: 1.3907 - val_acc: 0.9146\n",
      "Epoch 9/20\n",
      "50000/50000 [==============================] - 1s 17us/step - loss: 1.3712 - acc: 0.9091 - val_loss: 1.3549 - val_acc: 0.9100\n",
      "Epoch 10/20\n",
      "50000/50000 [==============================] - 1s 17us/step - loss: 1.3257 - acc: 0.9139 - val_loss: 1.3108 - val_acc: 0.9132\n",
      "Epoch 11/20\n",
      "50000/50000 [==============================] - 1s 17us/step - loss: 1.2936 - acc: 0.9163 - val_loss: 1.2827 - val_acc: 0.9241\n",
      "Epoch 12/20\n",
      "50000/50000 [==============================] - 1s 17us/step - loss: 1.2671 - acc: 0.9192 - val_loss: 1.2559 - val_acc: 0.9251\n",
      "Epoch 13/20\n",
      "50000/50000 [==============================] - 1s 17us/step - loss: 1.2450 - acc: 0.9215 - val_loss: 1.2169 - val_acc: 0.9332\n",
      "Epoch 14/20\n",
      "50000/50000 [==============================] - 1s 17us/step - loss: 1.2255 - acc: 0.9237 - val_loss: 1.2642 - val_acc: 0.9121\n",
      "Epoch 15/20\n",
      "50000/50000 [==============================] - 1s 17us/step - loss: 1.2099 - acc: 0.9248 - val_loss: 1.2401 - val_acc: 0.9129\n",
      "Epoch 16/20\n",
      "50000/50000 [==============================] - 1s 17us/step - loss: 1.1905 - acc: 0.9284 - val_loss: 1.1781 - val_acc: 0.9351\n",
      "Epoch 17/20\n",
      "50000/50000 [==============================] - 1s 17us/step - loss: 1.1792 - acc: 0.9290 - val_loss: 1.1504 - val_acc: 0.9398\n",
      "Epoch 18/20\n",
      "50000/50000 [==============================] - 1s 17us/step - loss: 1.1656 - acc: 0.9303 - val_loss: 1.1697 - val_acc: 0.9300\n",
      "Epoch 19/20\n",
      "50000/50000 [==============================] - 1s 17us/step - loss: 1.1566 - acc: 0.9311 - val_loss: 1.1330 - val_acc: 0.9400\n",
      "Epoch 20/20\n",
      "50000/50000 [==============================] - 1s 17us/step - loss: 1.1474 - acc: 0.9322 - val_loss: 1.1511 - val_acc: 0.9321\n"
     ]
    }
   ],
   "source": [
    "history3 = network3.fit(partial_x_train,\n",
    "                    partial_y_train,\n",
    "                    epochs=20,\n",
    "                    batch_size=512,\n",
    "                    validation_data=(x_val, y_val))"
   ]
  },
  {
   "cell_type": "code",
   "execution_count": 91,
   "metadata": {},
   "outputs": [
    {
     "data": {
      "image/png": "[encoded data removed]",
      "text/plain": [
       "<matplotlib.figure.Figure at 0x7f5ba060c470>"
      ]
     },
     "metadata": {},
     "output_type": "display_data"
    }
   ],
   "source": [
    "import matplotlib.pyplot as plt\n",
    "\n",
    "history_dict = history.history\n",
    "loss_values = history_dict['loss']\n",
    "val_loss_values = history_dict['val_loss']\n",
    "\n",
    "history_dict2 = history2.history\n",
    "loss_values2 = history_dict2['loss']\n",
    "val_loss_values2 = history_dict2['val_loss']\n",
    "\n",
    "history_dict3 = history3.history\n",
    "loss_values3 = history_dict3['loss']\n",
    "val_loss_values3 = history_dict3['val_loss']\n",
    "\n",
    "epochs = range(1, len(loss_values) + 1)\n",
    "\n",
    "plt.plot(epochs, loss_values, 'bo', label='Model 1: Training loss')\n",
    "plt.plot(epochs, val_loss_values, 'b', label='Model 1: Validation loss')\n",
    "plt.plot(epochs, loss_values2, 'ro', label='Model 2: Training loss')\n",
    "plt.plot(epochs, val_loss_values2, 'r', label='Model 2: Validation loss')\n",
    "plt.plot(epochs, loss_values3, 'go', label='Model 3: Training loss')\n",
    "plt.plot(epochs, val_loss_values3, 'g', label='Model 3: Validation loss')\n",
    "plt.title('Training and validation loss')\n",
    "plt.xlabel('Epochs')\n",
    "plt.ylabel('Loss')\n",
    "plt.legend()\n",
    "\n",
    "plt.show()"
   ]
  },
  {
   "cell_type": "markdown",
   "metadata": {},
   "source": [
    "Based on the validation set's loss trajectory, this third model appears to be the worst overall."
   ]
  },
  {
   "cell_type": "markdown",
   "metadata": {},
   "source": [
    "### (iv)"
   ]
  },
  {
   "cell_type": "code",
   "execution_count": 93,
   "metadata": {},
   "outputs": [
    {
     "name": "stdout",
     "output_type": "stream",
     "text": [
      "Epoch 1/20\n",
      "60000/60000 [==============================] - 1s 17us/step - loss: 0.0585 - acc: 0.9868\n",
      "Epoch 2/20\n",
      "60000/60000 [==============================] - 1s 16us/step - loss: 0.0573 - acc: 0.9871\n",
      "Epoch 3/20\n",
      "60000/60000 [==============================] - 1s 16us/step - loss: 0.0616 - acc: 0.9866\n",
      "Epoch 4/20\n",
      "60000/60000 [==============================] - 1s 16us/step - loss: 0.0560 - acc: 0.9879\n",
      "Epoch 5/20\n",
      "60000/60000 [==============================] - 1s 16us/step - loss: 0.0547 - acc: 0.9877\n",
      "Epoch 6/20\n",
      "60000/60000 [==============================] - 1s 16us/step - loss: 0.0533 - acc: 0.9879\n",
      "Epoch 7/20\n",
      "60000/60000 [==============================] - 1s 15us/step - loss: 0.0612 - acc: 0.9866\n",
      "Epoch 8/20\n",
      "60000/60000 [==============================] - 1s 16us/step - loss: 0.0555 - acc: 0.9874\n",
      "Epoch 9/20\n",
      "60000/60000 [==============================] - 1s 15us/step - loss: 0.0577 - acc: 0.9879\n",
      "Epoch 10/20\n",
      "60000/60000 [==============================] - 1s 15us/step - loss: 0.0562 - acc: 0.9881\n",
      "Epoch 11/20\n",
      "60000/60000 [==============================] - 1s 15us/step - loss: 0.0572 - acc: 0.9877\n",
      "Epoch 12/20\n",
      "60000/60000 [==============================] - 1s 15us/step - loss: 0.0516 - acc: 0.9886\n",
      "Epoch 13/20\n",
      "60000/60000 [==============================] - 1s 15us/step - loss: 0.0592 - acc: 0.9881\n",
      "Epoch 14/20\n",
      "60000/60000 [==============================] - 1s 15us/step - loss: 0.0572 - acc: 0.9881\n",
      "Epoch 15/20\n",
      "60000/60000 [==============================] - 1s 15us/step - loss: 0.0592 - acc: 0.9877\n",
      "Epoch 16/20\n",
      "60000/60000 [==============================] - 1s 15us/step - loss: 0.0531 - acc: 0.9884\n",
      "Epoch 17/20\n",
      "60000/60000 [==============================] - 1s 15us/step - loss: 0.0528 - acc: 0.9890\n",
      "Epoch 18/20\n",
      "60000/60000 [==============================] - 1s 15us/step - loss: 0.0587 - acc: 0.9881\n",
      "Epoch 19/20\n",
      "60000/60000 [==============================] - 1s 15us/step - loss: 0.0581 - acc: 0.9884\n",
      "Epoch 20/20\n",
      "60000/60000 [==============================] - 1s 15us/step - loss: 0.0526 - acc: 0.9892\n"
     ]
    }
   ],
   "source": [
    "history2 = network2.fit(train_images,\n",
    "                    train_labels,\n",
    "                    epochs=20,\n",
    "                    batch_size=512,)"
   ]
  },
  {
   "cell_type": "code",
   "execution_count": 94,
   "metadata": {},
   "outputs": [
    {
     "name": "stdout",
     "output_type": "stream",
     "text": [
      "10000/10000 [==============================] - 1s 50us/step\n",
      "test_acc: 0.9813\n"
     ]
    }
   ],
   "source": [
    "test_loss, test_acc = network.evaluate(test_images, test_labels)\n",
    "print('test_acc:', test_acc)"
   ]
  },
  {
   "cell_type": "markdown",
   "metadata": {},
   "source": [
    "Woohoo! I beat the book's test accuracy of 0.9785."
   ]
  },
  {
   "cell_type": "code",
   "execution_count": null,
   "metadata": {},
   "outputs": [],
   "source": []
  }
 ],
 "metadata": {
  "kernelspec": {
   "display_name": "Python 3",
   "language": "python",
   "name": "python3"
  },
  "language_info": {
   "codemirror_mode": {
    "name": "ipython",
    "version": 3
   },
   "file_extension": ".py",
   "mimetype": "text/x-python",
   "name": "python",
   "nbconvert_exporter": "python",
   "pygments_lexer": "ipython3",
   "version": "3.5.2"
  }
 },
 "nbformat": 4,
 "nbformat_minor": 2
}
